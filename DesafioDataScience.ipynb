{
 "cells": [
  {
   "cell_type": "markdown",
   "metadata": {},
   "source": [
    "# Dataset: Bank Marketing\n",
    "\n",
    "Fonte oficial do dataset: https://archive.ics.uci.edu/ml/datasets/bank+marketing\n",
    "\n",
    "Dados: https://archive.ics.uci.edu/ml/machine-learning-databases/00222/bank.zip\n",
    "\n",
    "Arquivos incluídos no link acima:\n",
    "<ul>\n",
    "    <li>bank.csv: uma versão reduzida do conjunto de dados;</li>\n",
    "    <li>bank-full.csv: o conjunto completo;</li>\n",
    "    <li>bank-names.txt: com a descrição dos campos do conjunto de dados.</li>\n",
    "</ul>\n",
    "       \n",
    "\n",
    "Para a resolução deste teste utilize o arquivo bank-full.csv e para uma descrição sobre o dataset use bank-names.txt e/ou a fonte oficial."
   ]
  },
  {
   "cell_type": "markdown",
   "metadata": {},
   "source": [
    "### Questões\n",
    "\n",
    "<ol>\n",
    "    <li>Qual profissão tem mais tendência a fazer um empréstimo? De qual tipo?</li>\n",
    "    <li>Fazendo uma relação entre número de contatos e sucesso da campanha quais são os pontos relevantes a serem observados?</li>\n",
    "    <li>Baseando-se nos resultados de adesão desta campanha qual o número médio e o máximo de ligações que você indica para otimizar a adesão?</li>\n",
    "    <li>O resultado da campanha anterior tem relevância na campanha atual?</li>\n",
    "    <li>Qual o fator determinante para que o banco exija um seguro de crédito?</li>\n",
    "    <li>Quais são as características mais proeminentes de um cliente que possua empréstimo imobiliário?</li>"
   ]
  },
  {
   "cell_type": "markdown",
   "metadata": {},
   "source": [
    "-------------------------------------------------------------------------------------------------------------------------"
   ]
  },
  {
   "cell_type": "markdown",
   "metadata": {},
   "source": [
    "Primeiramente iremos carregar os dados do arquivo <i>bank_full.csv</i> no DataFrame `bank_full`, sendo utilizado a biblioteca `pandas`."
   ]
  },
  {
   "cell_type": "code",
   "execution_count": 1,
   "metadata": {},
   "outputs": [],
   "source": [
    "import pandas as pd\n",
    "import numpy as np"
   ]
  },
  {
   "cell_type": "code",
   "execution_count": 4,
   "metadata": {},
   "outputs": [
    {
     "data": {
      "text/html": [
       "<div>\n",
       "<style scoped>\n",
       "    .dataframe tbody tr th:only-of-type {\n",
       "        vertical-align: middle;\n",
       "    }\n",
       "\n",
       "    .dataframe tbody tr th {\n",
       "        vertical-align: top;\n",
       "    }\n",
       "\n",
       "    .dataframe thead th {\n",
       "        text-align: right;\n",
       "    }\n",
       "</style>\n",
       "<table border=\"1\" class=\"dataframe\">\n",
       "  <thead>\n",
       "    <tr style=\"text-align: right;\">\n",
       "      <th></th>\n",
       "      <th>age</th>\n",
       "      <th>job</th>\n",
       "      <th>marital</th>\n",
       "      <th>education</th>\n",
       "      <th>default</th>\n",
       "      <th>balance</th>\n",
       "      <th>housing</th>\n",
       "      <th>loan</th>\n",
       "      <th>contact</th>\n",
       "      <th>day</th>\n",
       "      <th>month</th>\n",
       "      <th>duration</th>\n",
       "      <th>campaign</th>\n",
       "      <th>pdays</th>\n",
       "      <th>previous</th>\n",
       "      <th>poutcome</th>\n",
       "      <th>y</th>\n",
       "    </tr>\n",
       "  </thead>\n",
       "  <tbody>\n",
       "    <tr>\n",
       "      <th>0</th>\n",
       "      <td>58</td>\n",
       "      <td>management</td>\n",
       "      <td>married</td>\n",
       "      <td>tertiary</td>\n",
       "      <td>no</td>\n",
       "      <td>2143</td>\n",
       "      <td>yes</td>\n",
       "      <td>no</td>\n",
       "      <td>unknown</td>\n",
       "      <td>5</td>\n",
       "      <td>may</td>\n",
       "      <td>261</td>\n",
       "      <td>1</td>\n",
       "      <td>-1</td>\n",
       "      <td>0</td>\n",
       "      <td>unknown</td>\n",
       "      <td>no</td>\n",
       "    </tr>\n",
       "    <tr>\n",
       "      <th>1</th>\n",
       "      <td>44</td>\n",
       "      <td>technician</td>\n",
       "      <td>single</td>\n",
       "      <td>secondary</td>\n",
       "      <td>no</td>\n",
       "      <td>29</td>\n",
       "      <td>yes</td>\n",
       "      <td>no</td>\n",
       "      <td>unknown</td>\n",
       "      <td>5</td>\n",
       "      <td>may</td>\n",
       "      <td>151</td>\n",
       "      <td>1</td>\n",
       "      <td>-1</td>\n",
       "      <td>0</td>\n",
       "      <td>unknown</td>\n",
       "      <td>no</td>\n",
       "    </tr>\n",
       "    <tr>\n",
       "      <th>2</th>\n",
       "      <td>33</td>\n",
       "      <td>entrepreneur</td>\n",
       "      <td>married</td>\n",
       "      <td>secondary</td>\n",
       "      <td>no</td>\n",
       "      <td>2</td>\n",
       "      <td>yes</td>\n",
       "      <td>yes</td>\n",
       "      <td>unknown</td>\n",
       "      <td>5</td>\n",
       "      <td>may</td>\n",
       "      <td>76</td>\n",
       "      <td>1</td>\n",
       "      <td>-1</td>\n",
       "      <td>0</td>\n",
       "      <td>unknown</td>\n",
       "      <td>no</td>\n",
       "    </tr>\n",
       "    <tr>\n",
       "      <th>3</th>\n",
       "      <td>47</td>\n",
       "      <td>blue-collar</td>\n",
       "      <td>married</td>\n",
       "      <td>unknown</td>\n",
       "      <td>no</td>\n",
       "      <td>1506</td>\n",
       "      <td>yes</td>\n",
       "      <td>no</td>\n",
       "      <td>unknown</td>\n",
       "      <td>5</td>\n",
       "      <td>may</td>\n",
       "      <td>92</td>\n",
       "      <td>1</td>\n",
       "      <td>-1</td>\n",
       "      <td>0</td>\n",
       "      <td>unknown</td>\n",
       "      <td>no</td>\n",
       "    </tr>\n",
       "    <tr>\n",
       "      <th>4</th>\n",
       "      <td>33</td>\n",
       "      <td>unknown</td>\n",
       "      <td>single</td>\n",
       "      <td>unknown</td>\n",
       "      <td>no</td>\n",
       "      <td>1</td>\n",
       "      <td>no</td>\n",
       "      <td>no</td>\n",
       "      <td>unknown</td>\n",
       "      <td>5</td>\n",
       "      <td>may</td>\n",
       "      <td>198</td>\n",
       "      <td>1</td>\n",
       "      <td>-1</td>\n",
       "      <td>0</td>\n",
       "      <td>unknown</td>\n",
       "      <td>no</td>\n",
       "    </tr>\n",
       "  </tbody>\n",
       "</table>\n",
       "</div>"
      ],
      "text/plain": [
       "   age           job  marital  education default  balance housing loan  \\\n",
       "0   58    management  married   tertiary      no     2143     yes   no   \n",
       "1   44    technician   single  secondary      no       29     yes   no   \n",
       "2   33  entrepreneur  married  secondary      no        2     yes  yes   \n",
       "3   47   blue-collar  married    unknown      no     1506     yes   no   \n",
       "4   33       unknown   single    unknown      no        1      no   no   \n",
       "\n",
       "   contact  day month  duration  campaign  pdays  previous poutcome   y  \n",
       "0  unknown    5   may       261         1     -1         0  unknown  no  \n",
       "1  unknown    5   may       151         1     -1         0  unknown  no  \n",
       "2  unknown    5   may        76         1     -1         0  unknown  no  \n",
       "3  unknown    5   may        92         1     -1         0  unknown  no  \n",
       "4  unknown    5   may       198         1     -1         0  unknown  no  "
      ]
     },
     "execution_count": 4,
     "metadata": {},
     "output_type": "execute_result"
    }
   ],
   "source": [
    "# carregando o arquivo bank_full.csv no dataframe bank_full e imprimindo uma amostra\n",
    "bank_full = pd.read_csv('bank/bank-full.csv', sep=';')\n",
    "bank_full.head()"
   ]
  },
  {
   "cell_type": "markdown",
   "metadata": {},
   "source": [
    "Conferindo os tipos definidos para cada coluna durante o carregamento."
   ]
  },
  {
   "cell_type": "code",
   "execution_count": 6,
   "metadata": {},
   "outputs": [
    {
     "data": {
      "text/plain": [
       "age           int64\n",
       "job          object\n",
       "marital      object\n",
       "education    object\n",
       "default      object\n",
       "balance       int64\n",
       "housing      object\n",
       "loan         object\n",
       "contact      object\n",
       "day           int64\n",
       "month        object\n",
       "duration      int64\n",
       "campaign      int64\n",
       "pdays         int64\n",
       "previous      int64\n",
       "poutcome     object\n",
       "y            object\n",
       "dtype: object"
      ]
     },
     "execution_count": 6,
     "metadata": {},
     "output_type": "execute_result"
    }
   ],
   "source": [
    "bank_full.dtypes"
   ]
  },
  {
   "cell_type": "markdown",
   "metadata": {},
   "source": [
    "Conferindo dimensões do data frame."
   ]
  },
  {
   "cell_type": "code",
   "execution_count": 7,
   "metadata": {},
   "outputs": [
    {
     "data": {
      "text/plain": [
       "(45211, 17)"
      ]
     },
     "execution_count": 7,
     "metadata": {},
     "output_type": "execute_result"
    }
   ],
   "source": [
    "bank_full.shape"
   ]
  },
  {
   "cell_type": "markdown",
   "metadata": {},
   "source": [
    "Uma vez carregado vamos conferir a existência de entradas NaN."
   ]
  },
  {
   "cell_type": "code",
   "execution_count": 5,
   "metadata": {},
   "outputs": [
    {
     "data": {
      "text/plain": [
       "False"
      ]
     },
     "execution_count": 5,
     "metadata": {},
     "output_type": "execute_result"
    }
   ],
   "source": [
    "bank_full.isnull().any().any()"
   ]
  },
  {
   "cell_type": "markdown",
   "metadata": {},
   "source": [
    "Pronto! Dados carregados e prontos para utilização. Deste modo, daqui em diante vamos responder as questões sugeridas."
   ]
  },
  {
   "cell_type": "markdown",
   "metadata": {},
   "source": [
    "## Questão 1\n",
    "\n",
    "<b>Qual profissão tem mais tendência a fazer um empréstimo? De qual tipo?</b>"
   ]
  },
  {
   "cell_type": "markdown",
   "metadata": {},
   "source": [
    "Para isto será buscado, dentro de cada profissão, quais pessoas já apresentam algum empréstimo (colunas housing e loan), obtendo-se a porcentagem com relação ao número total de cada profissão. Os valores serão tomados com relação a cada profissão e não ao valor total de pessoas, evitando que profissões mais numerosas levem uma vantagem numérica a qual não estamos interessados na análise."
   ]
  },
  {
   "cell_type": "code",
   "execution_count": 145,
   "metadata": {},
   "outputs": [
    {
     "name": "stdout",
     "output_type": "stream",
     "text": [
      "management : 55.24 %\n",
      "technician : 60.66 %\n",
      "entrepreneur : 68.33 %\n",
      "blue-collar : 78.08 %\n",
      "unknown : 9.72 %\n",
      "retired : 30.87 %\n",
      "admin. : 69.02 %\n",
      "services : 73.74 %\n",
      "self-employed : 54.72 %\n",
      "unemployed : 45.20 %\n",
      "housemaid : 39.52 %\n",
      "student : 27.40 %\n",
      "\n",
      "Máximo\n",
      "\t blue-collar : 78.08 %\n"
     ]
    }
   ],
   "source": [
    "# calculadora de porcentagens de empréstimos já existentens (housing OU loan) para cada profissão\n",
    "# identifica e imprime o máximo encontrado\n",
    "jobs = bank_full.job.unique()\n",
    "porcentagemMax=0\n",
    "for i in jobs:\n",
    "    yes = bank_full.job[(bank_full.job == i) & ((bank_full.housing == 'yes') | (bank_full.loan == 'yes'))].count()\n",
    "    total = bank_full.job[bank_full.job == i].count()\n",
    "    porcentagem = yes/total\n",
    "    print(i,': %.2f' %(porcentagem*100),'%')\n",
    "    if porcentagem > porcentagemMax:\n",
    "        porcentagemMax = porcentagem\n",
    "        j = i\n",
    "print('\\nMáximo\\n\\t',j,': %.2f' %(porcentagemMax*100),'%')"
   ]
  },
  {
   "cell_type": "markdown",
   "metadata": {},
   "source": [
    "A profissão que apresenta a maior porcentagem é a blue-collar. Agora vamos verificar, dentro desta profissão, qual o tipo de financiamento que é mais feito. Para isso será considerado, primeiramente, apenas os financiamentos residenciais, seguido pelos empréstimos pessoais e concluindo com as pessoas que possuem os dois simultaneamente."
   ]
  },
  {
   "cell_type": "code",
   "execution_count": 48,
   "metadata": {},
   "outputs": [
    {
     "data": {
      "text/plain": [
       "5915"
      ]
     },
     "execution_count": 48,
     "metadata": {},
     "output_type": "execute_result"
    }
   ],
   "source": [
    "# apenas empréstimos residenciais\n",
    "bank_full.job[(bank_full.job == 'blue-collar') & (bank_full.housing == 'yes') & (bank_full.loan == 'no')].count()"
   ]
  },
  {
   "cell_type": "code",
   "execution_count": 49,
   "metadata": {},
   "outputs": [
    {
     "data": {
      "text/plain": [
       "551"
      ]
     },
     "execution_count": 49,
     "metadata": {},
     "output_type": "execute_result"
    }
   ],
   "source": [
    "# apenas empréstimos pessoais\n",
    "bank_full.job[(bank_full.job == 'blue-collar') & (bank_full.housing == 'no') & (bank_full.loan == 'yes')].count()"
   ]
  },
  {
   "cell_type": "code",
   "execution_count": 50,
   "metadata": {
    "scrolled": false
   },
   "outputs": [
    {
     "data": {
      "text/plain": [
       "1133"
      ]
     },
     "execution_count": 50,
     "metadata": {},
     "output_type": "execute_result"
    }
   ],
   "source": [
    "# empréstimos pessoais mais residenciais\n",
    "bank_full.job[(bank_full.job == 'blue-collar') & (bank_full.housing == 'yes') & (bank_full.loan == 'yes')].count()"
   ]
  },
  {
   "cell_type": "markdown",
   "metadata": {},
   "source": [
    "Concluida a análise acima se obtém que para os profissionais blue-collor o tipo de empréstimo mais efetuado é o residencial."
   ]
  },
  {
   "cell_type": "markdown",
   "metadata": {},
   "source": [
    "## Questão 2\n",
    "\n",
    "<b>Fazendo uma relação entre número de contatos e sucesso da campanha quais são os pontos relevantes a serem observados?</b>"
   ]
  },
  {
   "cell_type": "markdown",
   "metadata": {},
   "source": [
    "Primeiramente deve-se contar o número total de contatos e comparar com o número de empréstimos obtidos na campanha."
   ]
  },
  {
   "cell_type": "code",
   "execution_count": 151,
   "metadata": {},
   "outputs": [],
   "source": [
    "# contagem do número total de empréstimos efetuados.\n",
    "yes = bank_full[bank_full.y == 'yes'].shape"
   ]
  },
  {
   "cell_type": "code",
   "execution_count": 152,
   "metadata": {},
   "outputs": [
    {
     "name": "stdout",
     "output_type": "stream",
     "text": [
      "Empréstimos efetuados: 11.70 %\n"
     ]
    }
   ],
   "source": [
    "# porcentagem do número total de empréstimos efetuados com relação ao número de contatos\n",
    "print('Empréstimos efetuados: %.2f' %(yes[0]/bank_full.shape[0]*100),'%')"
   ]
  },
  {
   "cell_type": "markdown",
   "metadata": {},
   "source": [
    "Do número total de contatos, um percentual de 11,70 efetuou um epréstimo durante a campanha. Porém, vamos dar uma olhada como a aprovação se deu em cada mês."
   ]
  },
  {
   "cell_type": "markdown",
   "metadata": {},
   "source": [
    "Porém, podemos ir um pouco mais além e observar, mês a mês, qual deles apresenta um maior índice de empréstimos conseguidos através da campanha."
   ]
  },
  {
   "cell_type": "code",
   "execution_count": 251,
   "metadata": {},
   "outputs": [],
   "source": [
    "# contagem de empréstimos efetuados a cada mês\n",
    "mes = ['jan','feb','mar','apr','may','jun','jul','aug','sep','oct','nov','dec']\n",
    "mes_count = []\n",
    "for i in mes:\n",
    "    count = 0\n",
    "    for j in range(bank_full.shape[0]):\n",
    "        if bank_full.month[j] == i:\n",
    "            count+=1\n",
    "    mes_count.append(count)"
   ]
  },
  {
   "cell_type": "code",
   "execution_count": 252,
   "metadata": {},
   "outputs": [
    {
     "data": {
      "text/plain": [
       "[1403, 2649, 477, 2932, 13766, 5341, 6895, 6247, 579, 738, 3970, 214]"
      ]
     },
     "execution_count": 252,
     "metadata": {},
     "output_type": "execute_result"
    }
   ],
   "source": [
    "# verificando a lista criada\n",
    "mes_count"
   ]
  },
  {
   "cell_type": "code",
   "execution_count": 253,
   "metadata": {},
   "outputs": [],
   "source": [
    "# transformando a lista mes em dataframe\n",
    "mes = pd.DataFrame(mes)"
   ]
  },
  {
   "cell_type": "code",
   "execution_count": 254,
   "metadata": {},
   "outputs": [],
   "source": [
    "# adicionando a mes as contagens de cada mes em forma de porcentagem\n",
    "mes['count'] = mes_count\n",
    "mes['count'] = mes['count']/(mes['count'].sum())*100"
   ]
  },
  {
   "cell_type": "code",
   "execution_count": 255,
   "metadata": {},
   "outputs": [],
   "source": [
    "# transformando a coluna com o nome dos meses em index\n",
    "mes.set_index(0, inplace=True)\n",
    "del mes.index.name"
   ]
  },
  {
   "cell_type": "code",
   "execution_count": 256,
   "metadata": {},
   "outputs": [
    {
     "data": {
      "text/plain": [
       "Text(0.5,1,'Porcentagem de empréstimos por mês')"
      ]
     },
     "execution_count": 256,
     "metadata": {},
     "output_type": "execute_result"
    },
    {
     "data": {
      "image/png": "[encoded data removed]",
      "text/plain": [
       "<matplotlib.figure.Figure at 0x7fc164603be0>"
      ]
     },
     "metadata": {},
     "output_type": "display_data"
    }
   ],
   "source": [
    "# fazendo um plot de barras com as porcentagem de cada mês\n",
    "mes['count'].plot.bar()\n",
    "plt.ylabel('Porcentagem')\n",
    "plt.title('Porcentagem de empréstimos por mês')"
   ]
  },
  {
   "cell_type": "markdown",
   "metadata": {},
   "source": [
    "Claramente no gráfico acima observa-se que o mês de Maio é o mais propício para se ter sucesso no empréstimo, sendo uma forte sugestão que, para o próximo ano, a campanha seja intensificada neste mês."
   ]
  },
  {
   "cell_type": "markdown",
   "metadata": {},
   "source": [
    "## Questão 3\n",
    "\n",
    "<b>Baseando-se nos resultados de adesão desta campanha qual o número médio e o máximo de ligações que você indica para otimizar a adesão?</b>"
   ]
  },
  {
   "cell_type": "markdown",
   "metadata": {},
   "source": [
    "Para responder a esta questão deve-se criar um dataframe apenas com os resultados positivos da campanha e analisar a coluna que indica o número de ligações."
   ]
  },
  {
   "cell_type": "code",
   "execution_count": 88,
   "metadata": {},
   "outputs": [
    {
     "data": {
      "text/html": [
       "<div>\n",
       "<style scoped>\n",
       "    .dataframe tbody tr th:only-of-type {\n",
       "        vertical-align: middle;\n",
       "    }\n",
       "\n",
       "    .dataframe tbody tr th {\n",
       "        vertical-align: top;\n",
       "    }\n",
       "\n",
       "    .dataframe thead th {\n",
       "        text-align: right;\n",
       "    }\n",
       "</style>\n",
       "<table border=\"1\" class=\"dataframe\">\n",
       "  <thead>\n",
       "    <tr style=\"text-align: right;\">\n",
       "      <th></th>\n",
       "      <th>age</th>\n",
       "      <th>balance</th>\n",
       "      <th>day</th>\n",
       "      <th>duration</th>\n",
       "      <th>campaign</th>\n",
       "      <th>pdays</th>\n",
       "      <th>previous</th>\n",
       "    </tr>\n",
       "  </thead>\n",
       "  <tbody>\n",
       "    <tr>\n",
       "      <th>count</th>\n",
       "      <td>5289.000000</td>\n",
       "      <td>5289.000000</td>\n",
       "      <td>5289.000000</td>\n",
       "      <td>5289.000000</td>\n",
       "      <td>5289.000000</td>\n",
       "      <td>5289.000000</td>\n",
       "      <td>5289.000000</td>\n",
       "    </tr>\n",
       "    <tr>\n",
       "      <th>mean</th>\n",
       "      <td>41.670070</td>\n",
       "      <td>1804.267915</td>\n",
       "      <td>15.158253</td>\n",
       "      <td>537.294574</td>\n",
       "      <td>2.141047</td>\n",
       "      <td>68.702968</td>\n",
       "      <td>1.170354</td>\n",
       "    </tr>\n",
       "    <tr>\n",
       "      <th>std</th>\n",
       "      <td>13.497781</td>\n",
       "      <td>3501.104777</td>\n",
       "      <td>8.501875</td>\n",
       "      <td>392.525262</td>\n",
       "      <td>1.921826</td>\n",
       "      <td>118.822266</td>\n",
       "      <td>2.553272</td>\n",
       "    </tr>\n",
       "    <tr>\n",
       "      <th>min</th>\n",
       "      <td>18.000000</td>\n",
       "      <td>-3058.000000</td>\n",
       "      <td>1.000000</td>\n",
       "      <td>8.000000</td>\n",
       "      <td>1.000000</td>\n",
       "      <td>-1.000000</td>\n",
       "      <td>0.000000</td>\n",
       "    </tr>\n",
       "    <tr>\n",
       "      <th>25%</th>\n",
       "      <td>31.000000</td>\n",
       "      <td>210.000000</td>\n",
       "      <td>8.000000</td>\n",
       "      <td>244.000000</td>\n",
       "      <td>1.000000</td>\n",
       "      <td>-1.000000</td>\n",
       "      <td>0.000000</td>\n",
       "    </tr>\n",
       "    <tr>\n",
       "      <th>50%</th>\n",
       "      <td>38.000000</td>\n",
       "      <td>733.000000</td>\n",
       "      <td>15.000000</td>\n",
       "      <td>426.000000</td>\n",
       "      <td>2.000000</td>\n",
       "      <td>-1.000000</td>\n",
       "      <td>0.000000</td>\n",
       "    </tr>\n",
       "    <tr>\n",
       "      <th>75%</th>\n",
       "      <td>50.000000</td>\n",
       "      <td>2159.000000</td>\n",
       "      <td>22.000000</td>\n",
       "      <td>725.000000</td>\n",
       "      <td>3.000000</td>\n",
       "      <td>98.000000</td>\n",
       "      <td>1.000000</td>\n",
       "    </tr>\n",
       "    <tr>\n",
       "      <th>max</th>\n",
       "      <td>95.000000</td>\n",
       "      <td>81204.000000</td>\n",
       "      <td>31.000000</td>\n",
       "      <td>3881.000000</td>\n",
       "      <td>32.000000</td>\n",
       "      <td>854.000000</td>\n",
       "      <td>58.000000</td>\n",
       "    </tr>\n",
       "  </tbody>\n",
       "</table>\n",
       "</div>"
      ],
      "text/plain": [
       "               age       balance          day     duration     campaign  \\\n",
       "count  5289.000000   5289.000000  5289.000000  5289.000000  5289.000000   \n",
       "mean     41.670070   1804.267915    15.158253   537.294574     2.141047   \n",
       "std      13.497781   3501.104777     8.501875   392.525262     1.921826   \n",
       "min      18.000000  -3058.000000     1.000000     8.000000     1.000000   \n",
       "25%      31.000000    210.000000     8.000000   244.000000     1.000000   \n",
       "50%      38.000000    733.000000    15.000000   426.000000     2.000000   \n",
       "75%      50.000000   2159.000000    22.000000   725.000000     3.000000   \n",
       "max      95.000000  81204.000000    31.000000  3881.000000    32.000000   \n",
       "\n",
       "             pdays     previous  \n",
       "count  5289.000000  5289.000000  \n",
       "mean     68.702968     1.170354  \n",
       "std     118.822266     2.553272  \n",
       "min      -1.000000     0.000000  \n",
       "25%      -1.000000     0.000000  \n",
       "50%      -1.000000     0.000000  \n",
       "75%      98.000000     1.000000  \n",
       "max     854.000000    58.000000  "
      ]
     },
     "execution_count": 88,
     "metadata": {},
     "output_type": "execute_result"
    }
   ],
   "source": [
    "# criando dataframe com entradas apenas positivas de empréstimo\n",
    "yes = bank_full[bank_full.y == 'yes']\n",
    "yes.describe()"
   ]
  },
  {
   "cell_type": "markdown",
   "metadata": {},
   "source": [
    "Para facilitar a visualização dos dados acima, será plotado um histograma com a distribuição do número de ligações feitas para cada cliente que fez um empréstimo."
   ]
  },
  {
   "cell_type": "code",
   "execution_count": 141,
   "metadata": {},
   "outputs": [],
   "source": [
    "import matplotlib"
   ]
  },
  {
   "cell_type": "code",
   "execution_count": 89,
   "metadata": {},
   "outputs": [],
   "source": [
    "# criando variável com o número de ligações durante a campanha\n",
    "ligacoes = yes.campaign"
   ]
  },
  {
   "cell_type": "code",
   "execution_count": 92,
   "metadata": {},
   "outputs": [
    {
     "data": {
      "text/plain": [
       "count    5289.000000\n",
       "mean        2.141047\n",
       "std         1.921826\n",
       "min         1.000000\n",
       "25%         1.000000\n",
       "50%         2.000000\n",
       "75%         3.000000\n",
       "max        32.000000\n",
       "Name: campaign, dtype: float64"
      ]
     },
     "execution_count": 92,
     "metadata": {},
     "output_type": "execute_result"
    }
   ],
   "source": [
    "ligacoes.describe()"
   ]
  },
  {
   "cell_type": "code",
   "execution_count": 226,
   "metadata": {},
   "outputs": [
    {
     "data": {
      "text/plain": [
       "<matplotlib.axes._subplots.AxesSubplot at 0x7fc1649f9cc0>"
      ]
     },
     "execution_count": 226,
     "metadata": {},
     "output_type": "execute_result"
    },
    {
     "data": {
      "image/png": "[encoded data removed]",
      "text/plain": [
       "<matplotlib.figure.Figure at 0x7fc164a455c0>"
      ]
     },
     "metadata": {},
     "output_type": "display_data"
    }
   ],
   "source": [
    "# plotando um histograma com a distribuição do número de ligações na campanha\n",
    "ligacoes.plot.hist(bins=15)"
   ]
  },
  {
   "cell_type": "markdown",
   "metadata": {},
   "source": [
    "A média do número de ligações necessárias para se obter um empréstimo foi de ~2 ligações.\n",
    "\n",
    "Como a intenção é otimizar o número de ligações, 3 ligações já serão suficientes para conquistar 75% dos clientes que fizeram um empréstimo."
   ]
  },
  {
   "cell_type": "markdown",
   "metadata": {},
   "source": [
    "Utilizando-se do conceito de uma distribuição Gaussiana (Normal) onde tomado a média +- 2\\*desvio_padrão atinge-se ~99,5% dos dados, um limite de ~6 (2,14 + 2\\*1,92) ligações é um máximo aceitável."
   ]
  },
  {
   "cell_type": "markdown",
   "metadata": {},
   "source": [
    "## Questão 4\n",
    "\n",
    "<b>O resultado da campanha anterior tem relevância na campanha atual?</b>"
   ]
  },
  {
   "cell_type": "markdown",
   "metadata": {},
   "source": [
    "Para responder a esta questão, primeiramente precisamos saber o número total de empréstimos conseguidos durante esta campanha. Feito isto segue-se para uma contagem total do número de pessoas que emprestaram na campanha passada, as quais são denominadas como 'success'. Conclui-se computando as pessoas que voltaram ou não a fazer um empréstimo."
   ]
  },
  {
   "cell_type": "code",
   "execution_count": 94,
   "metadata": {},
   "outputs": [
    {
     "data": {
      "text/plain": [
       "(5289, 17)"
      ]
     },
     "execution_count": 94,
     "metadata": {},
     "output_type": "execute_result"
    }
   ],
   "source": [
    "# número total de empréstimos feitos na campanha\n",
    "yes.shape"
   ]
  },
  {
   "cell_type": "code",
   "execution_count": 95,
   "metadata": {},
   "outputs": [],
   "source": [
    "# pessoas as quais foi obtido sucesso na campanha anterior\n",
    "poutcome = bank_full[bank_full.poutcome == 'success']"
   ]
  },
  {
   "cell_type": "code",
   "execution_count": 97,
   "metadata": {},
   "outputs": [],
   "source": [
    "# contagem de pessoas que voltaram a fazer empréstimo ou não\n",
    "poutcome_yes = poutcome.poutcome[(poutcome.poutcome == 'success') & (poutcome.y == 'yes')].count()\n",
    "poutcome_no = poutcome.poutcome[(poutcome.poutcome == 'success') & (poutcome.y == 'no')].count()"
   ]
  },
  {
   "cell_type": "code",
   "execution_count": 98,
   "metadata": {},
   "outputs": [
    {
     "name": "stdout",
     "output_type": "stream",
     "text": [
      "Voltaram a emprestar: 64.73 %\n"
     ]
    }
   ],
   "source": [
    "# porcentagem dos que repetiram o empréstimo\n",
    "print('Voltaram a emprestar: %.2f' %(poutcome_yes/poutcome.poutcome.count()*100),'%')"
   ]
  },
  {
   "cell_type": "code",
   "execution_count": 99,
   "metadata": {},
   "outputs": [
    {
     "name": "stdout",
     "output_type": "stream",
     "text": [
      "Não voltaram a emprestar: 35.27 %\n"
     ]
    }
   ],
   "source": [
    "# porcentagem dos que não repetiram o empréstimo\n",
    "print('Não voltaram a emprestar: %.2f' %(poutcome_no/poutcome.poutcome.count()*100),'%')"
   ]
  },
  {
   "cell_type": "code",
   "execution_count": 103,
   "metadata": {},
   "outputs": [
    {
     "name": "stdout",
     "output_type": "stream",
     "text": [
      "Porcentagem dos que já emprestaram do número total de empréstimos da campanha: 18.49 %\n"
     ]
    }
   ],
   "source": [
    "# porcentagem dos que já emprestaram com relação ao número total de empréstimos\n",
    "print('Porcentagem dos que já emprestaram do número total de empréstimos da campanha: %.2f'\n",
    "      %(poutcome_yes/yes.shape[0]*100),'%')"
   ]
  },
  {
   "cell_type": "markdown",
   "metadata": {},
   "source": [
    "Considerando que ~18,5% das pessoas que fizeram empréstimos nesta campanha também fizeram na campanha passada, tem-se que a campanha passada foi relevante para a campanha atual. Porém, neste caso, o valor mais importante a se observar é o de pessoas que voltaram a fazer empréstimos, 64,73%, sendo um número expressivo."
   ]
  },
  {
   "cell_type": "markdown",
   "metadata": {},
   "source": [
    "## Questão 5\n",
    "\n",
    "<b>Qual o fator determinante para que o banco exija um seguro de crédito?</b>"
   ]
  },
  {
   "cell_type": "markdown",
   "metadata": {},
   "source": [
    "O fator determinante é se a pessoa possui débitos faltantes de outros empréstimos."
   ]
  },
  {
   "cell_type": "code",
   "execution_count": 105,
   "metadata": {},
   "outputs": [],
   "source": [
    "# buscando por pessoas que possuem default e fizeram um empréstimo\n",
    "default_yes = bank_full.default[(bank_full.default == 'yes') & (bank_full.y == 'yes')].count()"
   ]
  },
  {
   "cell_type": "code",
   "execution_count": 107,
   "metadata": {},
   "outputs": [
    {
     "name": "stdout",
     "output_type": "stream",
     "text": [
      "Exigir seguro de 0.98 % dos empréstimos concedidos.\n"
     ]
    }
   ],
   "source": [
    "# porcentagem de default com relação ao número total de empréstimos\n",
    "print('Exigir seguro de %.2f' %(default_yes/yes.shape[0]*100),'% dos empréstimos concedidos.')"
   ]
  },
  {
   "cell_type": "markdown",
   "metadata": {},
   "source": [
    "## Questão 6\n",
    "\n",
    "<b>Quais são as características mais proeminentes de um cliente que possua empréstimo imobiliário?</b>"
   ]
  },
  {
   "cell_type": "markdown",
   "metadata": {},
   "source": [
    "Para esta pergunta deve-se tratar apenas com os dados pessoais dos clientes. Como se está interessado em empréstimos imobiliários serão selecionados, para um novo dataframe, apenas os clientes com empréstimos imobiliários."
   ]
  },
  {
   "cell_type": "code",
   "execution_count": 163,
   "metadata": {},
   "outputs": [],
   "source": [
    "# criando dataframe com pessoas com empréstimos imobiliários\n",
    "imobiliario = bank_full[bank_full.housing == 'yes'].copy(deep=True)"
   ]
  },
  {
   "cell_type": "markdown",
   "metadata": {},
   "source": [
    "Eliminando-se todas as colunas com exceção das de dados pessoais."
   ]
  },
  {
   "cell_type": "code",
   "execution_count": 165,
   "metadata": {},
   "outputs": [],
   "source": [
    "imobiliario.drop(labels=['housing','loan', 'contact', 'day', 'month', 'duration', 'campaign', 'pdays',\n",
    "       'previous', 'poutcome', 'y'], axis=1, inplace=True)"
   ]
  },
  {
   "cell_type": "code",
   "execution_count": 166,
   "metadata": {},
   "outputs": [
    {
     "data": {
      "text/plain": [
       "Index(['age', 'job', 'marital', 'education', 'default', 'balance'], dtype='object')"
      ]
     },
     "execution_count": 166,
     "metadata": {},
     "output_type": "execute_result"
    }
   ],
   "source": [
    "# verificando as colunas restantes\n",
    "imobiliario.columns"
   ]
  },
  {
   "cell_type": "markdown",
   "metadata": {},
   "source": [
    "Para as colunas numéricas será feito um levantamento estatístico (função describe). Com relação as demais colunas serão plotados gráficos de barra para facilitar a comparação de qual entrada mais se destaca em cada coluna."
   ]
  },
  {
   "cell_type": "code",
   "execution_count": 167,
   "metadata": {
    "scrolled": true
   },
   "outputs": [
    {
     "data": {
      "text/html": [
       "<div>\n",
       "<style scoped>\n",
       "    .dataframe tbody tr th:only-of-type {\n",
       "        vertical-align: middle;\n",
       "    }\n",
       "\n",
       "    .dataframe tbody tr th {\n",
       "        vertical-align: top;\n",
       "    }\n",
       "\n",
       "    .dataframe thead th {\n",
       "        text-align: right;\n",
       "    }\n",
       "</style>\n",
       "<table border=\"1\" class=\"dataframe\">\n",
       "  <thead>\n",
       "    <tr style=\"text-align: right;\">\n",
       "      <th></th>\n",
       "      <th>age</th>\n",
       "      <th>balance</th>\n",
       "    </tr>\n",
       "  </thead>\n",
       "  <tbody>\n",
       "    <tr>\n",
       "      <th>count</th>\n",
       "      <td>25130.000000</td>\n",
       "      <td>25130.000000</td>\n",
       "    </tr>\n",
       "    <tr>\n",
       "      <th>mean</th>\n",
       "      <td>39.175288</td>\n",
       "      <td>1175.103064</td>\n",
       "    </tr>\n",
       "    <tr>\n",
       "      <th>std</th>\n",
       "      <td>8.926807</td>\n",
       "      <td>2483.285761</td>\n",
       "    </tr>\n",
       "    <tr>\n",
       "      <th>min</th>\n",
       "      <td>20.000000</td>\n",
       "      <td>-4057.000000</td>\n",
       "    </tr>\n",
       "    <tr>\n",
       "      <th>25%</th>\n",
       "      <td>32.000000</td>\n",
       "      <td>62.000000</td>\n",
       "    </tr>\n",
       "    <tr>\n",
       "      <th>50%</th>\n",
       "      <td>38.000000</td>\n",
       "      <td>412.000000</td>\n",
       "    </tr>\n",
       "    <tr>\n",
       "      <th>75%</th>\n",
       "      <td>45.000000</td>\n",
       "      <td>1257.750000</td>\n",
       "    </tr>\n",
       "    <tr>\n",
       "      <th>max</th>\n",
       "      <td>78.000000</td>\n",
       "      <td>58544.000000</td>\n",
       "    </tr>\n",
       "  </tbody>\n",
       "</table>\n",
       "</div>"
      ],
      "text/plain": [
       "                age       balance\n",
       "count  25130.000000  25130.000000\n",
       "mean      39.175288   1175.103064\n",
       "std        8.926807   2483.285761\n",
       "min       20.000000  -4057.000000\n",
       "25%       32.000000     62.000000\n",
       "50%       38.000000    412.000000\n",
       "75%       45.000000   1257.750000\n",
       "max       78.000000  58544.000000"
      ]
     },
     "execution_count": 167,
     "metadata": {},
     "output_type": "execute_result"
    }
   ],
   "source": [
    "imobiliario.describe()"
   ]
  },
  {
   "cell_type": "code",
   "execution_count": 214,
   "metadata": {},
   "outputs": [
    {
     "data": {
      "text/plain": [
       "Text(0.5,1,'Distribuição das idades - empréstimo imobiliário')"
      ]
     },
     "execution_count": 214,
     "metadata": {},
     "output_type": "execute_result"
    },
    {
     "data": {
      "image/png": "[encoded data removed]",
      "text/plain": [
       "<matplotlib.figure.Figure at 0x7fc164e924e0>"
      ]
     },
     "metadata": {},
     "output_type": "display_data"
    }
   ],
   "source": [
    "imobiliario.age.plot.hist(bins=20)\n",
    "plt.xlabel('Idade [anos]')\n",
    "plt.title('Distribuição das idades - empréstimo imobiliário')"
   ]
  },
  {
   "cell_type": "markdown",
   "metadata": {},
   "source": [
    "A distribuição apresenta um bom comportamento, não sendo observado nenhuma entrada em destaque."
   ]
  },
  {
   "cell_type": "markdown",
   "metadata": {},
   "source": [
    "Para visualizar melhor a distribuição dos dados de saldos médios anuais (abaixo) serão utilizados apenas valores menores que 20000 para o histograma abaixo."
   ]
  },
  {
   "cell_type": "code",
   "execution_count": 213,
   "metadata": {},
   "outputs": [
    {
     "data": {
      "text/plain": [
       "Text(0.5,1,'Distribuição dos saldos médios anuais - empréstimo imobiliário')"
      ]
     },
     "execution_count": 213,
     "metadata": {},
     "output_type": "execute_result"
    },
    {
     "data": {
      "image/png": "[encoded data removed]",
      "text/plain": [
       "<matplotlib.figure.Figure at 0x7fc164f65630>"
      ]
     },
     "metadata": {},
     "output_type": "display_data"
    }
   ],
   "source": [
    "balance = imobiliario[imobiliario.balance < 20000]\n",
    "balance.balance.plot.hist(bins=40)\n",
    "plt.xlabel('Saldo médio anual [euros]')\n",
    "plt.title('Distribuição dos saldos médios anuais - empréstimo imobiliário')"
   ]
  },
  {
   "cell_type": "markdown",
   "metadata": {},
   "source": [
    "Neste caso, novamente, nenhum comportamento proeminente é observado."
   ]
  },
  {
   "cell_type": "code",
   "execution_count": 212,
   "metadata": {},
   "outputs": [
    {
     "data": {
      "text/plain": [
       "Text(0.5,1,'Porcentagens de cada Job - empréstimo imobiliário')"
      ]
     },
     "execution_count": 212,
     "metadata": {},
     "output_type": "execute_result"
    },
    {
     "data": {
      "image/png": "[encoded data removed]",
      "text/plain": [
       "<matplotlib.figure.Figure at 0x7fc164f550b8>"
      ]
     },
     "metadata": {},
     "output_type": "display_data"
    }
   ],
   "source": [
    "imo_job = imobiliario.job.value_counts()/imobiliario.shape[0]*100\n",
    "imo_job.plot.bar()\n",
    "plt.ylabel('Porcentegem')\n",
    "plt.title('Porcentagens de cada Job - empréstimo imobiliário')"
   ]
  },
  {
   "cell_type": "markdown",
   "metadata": {},
   "source": [
    "A profissão blue-collar apresenta uma porcentagem um pouco mais significativa que as demais, podendo esta ser uma característica proeminente dos que fazer empréstimos imobiliários."
   ]
  },
  {
   "cell_type": "code",
   "execution_count": 211,
   "metadata": {
    "scrolled": true
   },
   "outputs": [
    {
     "data": {
      "text/plain": [
       "Text(0.5,1,'Porcentagens de cada Education - empréstimo imobiliário')"
      ]
     },
     "execution_count": 211,
     "metadata": {},
     "output_type": "execute_result"
    },
    {
     "data": {
      "image/png": "[encoded data removed]",
      "text/plain": [
       "<matplotlib.figure.Figure at 0x7fc1652bd160>"
      ]
     },
     "metadata": {},
     "output_type": "display_data"
    }
   ],
   "source": [
    "imo_edu = imobiliario.education.value_counts()/imobiliario.shape[0]*100\n",
    "imo_edu.plot.bar()\n",
    "plt.ylabel('Porcentegem')\n",
    "plt.title('Porcentagens de cada Education - empréstimo imobiliário')"
   ]
  },
  {
   "cell_type": "markdown",
   "metadata": {},
   "source": [
    "Neste caso, observa-se que o maior número, e significante, dos que fazem empréstimos imobiliários possuem nível escolar secundário."
   ]
  },
  {
   "cell_type": "code",
   "execution_count": 210,
   "metadata": {
    "scrolled": true
   },
   "outputs": [
    {
     "data": {
      "text/plain": [
       "Text(0.5,1,'Porcentagens de cada Marital - empréstimo imobiliário')"
      ]
     },
     "execution_count": 210,
     "metadata": {},
     "output_type": "execute_result"
    },
    {
     "data": {
      "image/png": "[encoded data removed]",
      "text/plain": [
       "<matplotlib.figure.Figure at 0x7fc16504eef0>"
      ]
     },
     "metadata": {},
     "output_type": "display_data"
    }
   ],
   "source": [
    "imo_mar = imobiliario.marital.value_counts()/imobiliario.shape[0]*100\n",
    "imo_mar.plot.bar()\n",
    "plt.ylabel('Porcentegem')\n",
    "plt.title('Porcentagens de cada Marital - empréstimo imobiliário')"
   ]
  },
  {
   "cell_type": "markdown",
   "metadata": {},
   "source": [
    "A maior porcentagem dos que fazem empréstimos imobiliários são casados, sendo esta porcentagem extremamente maior que as de solteiros e divorciados."
   ]
  },
  {
   "cell_type": "code",
   "execution_count": 209,
   "metadata": {
    "scrolled": true
   },
   "outputs": [
    {
     "data": {
      "text/plain": [
       "Text(0.5,1,'Porcentagens de cada Default - empréstimo imobiliário')"
      ]
     },
     "execution_count": 209,
     "metadata": {},
     "output_type": "execute_result"
    },
    {
     "data": {
      "image/png": "[encoded data removed]",
      "text/plain": [
       "<matplotlib.figure.Figure at 0x7fc16529d9b0>"
      ]
     },
     "metadata": {},
     "output_type": "display_data"
    }
   ],
   "source": [
    "imo_def = imobiliario.default.value_counts()/imobiliario.shape[0]*100\n",
    "imo_def.plot.bar()\n",
    "plt.ylabel('Porcentegem')\n",
    "plt.title('Porcentagens de cada Default - empréstimo imobiliário')"
   ]
  },
  {
   "cell_type": "markdown",
   "metadata": {},
   "source": [
    "Uma porcentagem praticamente nula de pessoas que apresentam problemas de pagamento com outros empréstimos fazem empréstimos imobiliários."
   ]
  },
  {
   "cell_type": "markdown",
   "metadata": {},
   "source": [
    "A partir dos  gráficos acima observa-se que as colunas Job, Education, Marital e Default apresentam, cada uma, uma característica bem definida. Mas antes de tomarmos os resultados como conclusivos iremos replotar estes três gáficos, porém para os que possuem financiamento pessoal."
   ]
  },
  {
   "cell_type": "code",
   "execution_count": 195,
   "metadata": {},
   "outputs": [],
   "source": [
    "pessoal = bank_full[bank_full.loan == 'yes'].copy(deep=True)"
   ]
  },
  {
   "cell_type": "code",
   "execution_count": 259,
   "metadata": {},
   "outputs": [
    {
     "data": {
      "text/plain": [
       "Text(0.5,1,'Porcentagens de cada Job - empréstimo pessoal')"
      ]
     },
     "execution_count": 259,
     "metadata": {},
     "output_type": "execute_result"
    },
    {
     "data": {
      "image/png": "[encoded data removed]",
      "text/plain": [
       "<matplotlib.figure.Figure at 0x7fc16452dfd0>"
      ]
     },
     "metadata": {},
     "output_type": "display_data"
    }
   ],
   "source": [
    "pes_job = pessoal.job.value_counts()/pessoal.shape[0]*100\n",
    "pes_job.plot.bar()\n",
    "plt.ylabel('Porcentegem')\n",
    "plt.title('Porcentagens de cada Job - empréstimo pessoal')"
   ]
  },
  {
   "cell_type": "code",
   "execution_count": 200,
   "metadata": {},
   "outputs": [
    {
     "data": {
      "text/plain": [
       "Text(0.5,1,'Porcentagens de cada Education - empréstimo pessoal')"
      ]
     },
     "execution_count": 200,
     "metadata": {},
     "output_type": "execute_result"
    },
    {
     "data": {
      "image/png": "[encoded data removed]",
      "text/plain": [
       "<matplotlib.figure.Figure at 0x7fc16554b0f0>"
      ]
     },
     "metadata": {},
     "output_type": "display_data"
    }
   ],
   "source": [
    "pes_edu = pessoal.education.value_counts()/pessoal.shape[0]*100\n",
    "pes_edu.plot.bar()\n",
    "plt.ylabel('Porcentegem')\n",
    "plt.title('Porcentagens de cada Education - empréstimo pessoal')"
   ]
  },
  {
   "cell_type": "code",
   "execution_count": 201,
   "metadata": {},
   "outputs": [
    {
     "data": {
      "text/plain": [
       "Text(0.5,1,'Porcentagens de cada Marital - empréstimo pessoal')"
      ]
     },
     "execution_count": 201,
     "metadata": {},
     "output_type": "execute_result"
    },
    {
     "data": {
      "image/png": "[encoded data removed]",
      "text/plain": [
       "<matplotlib.figure.Figure at 0x7fc16552b5c0>"
      ]
     },
     "metadata": {},
     "output_type": "display_data"
    }
   ],
   "source": [
    "pes_mar = pessoal.marital.value_counts()/pessoal.shape[0]*100\n",
    "pes_mar.plot.bar()\n",
    "plt.ylabel('Porcentegem')\n",
    "plt.title('Porcentagens de cada Marital - empréstimo pessoal')"
   ]
  },
  {
   "cell_type": "code",
   "execution_count": 202,
   "metadata": {},
   "outputs": [
    {
     "data": {
      "text/plain": [
       "Text(0.5,1,'Porcentagens de cada Default - empréstimo pessoal')"
      ]
     },
     "execution_count": 202,
     "metadata": {},
     "output_type": "execute_result"
    },
    {
     "data": {
      "image/png": "[encoded data removed]",
      "text/plain": [
       "<matplotlib.figure.Figure at 0x7fc1655b1b70>"
      ]
     },
     "metadata": {},
     "output_type": "display_data"
    }
   ],
   "source": [
    "pes_def = pessoal.default.value_counts()/pessoal.shape[0]*100\n",
    "pes_def.plot.bar()\n",
    "plt.ylabel('Porcentegem')\n",
    "plt.title('Porcentagens de cada Default - empréstimo pessoal')"
   ]
  },
  {
   "cell_type": "markdown",
   "metadata": {},
   "source": [
    "Comparando os gráficos acima com os de imobiliários observa-se um mesmo comportamento, o que nos permite concluir que as características mais proeminentes de quem faz um empréstimo imobiliário não são exclusivas destes. Uma exceção ocorre com Jobs, onde o número de profissionais blue-collar diminui em empréstimos pessoais com relação ao imobiliário. Porém, novamente, ainda não se observa uma característica exclusiva de quem faz empréstimos imobiliários, própriamente dito."
   ]
  },
  {
   "cell_type": "code",
   "execution_count": null,
   "metadata": {},
   "outputs": [],
   "source": []
  }
 ],
 "metadata": {
  "kernelspec": {
   "display_name": "Python 3",
   "language": "python",
   "name": "python3"
  },
  "language_info": {
   "codemirror_mode": {
    "name": "ipython",
    "version": 3
   },
   "file_extension": ".py",
   "mimetype": "text/x-python",
   "name": "python",
   "nbconvert_exporter": "python",
   "pygments_lexer": "ipython3",
   "version": "3.6.4"
  }
 },
 "nbformat": 4,
 "nbformat_minor": 2
}
